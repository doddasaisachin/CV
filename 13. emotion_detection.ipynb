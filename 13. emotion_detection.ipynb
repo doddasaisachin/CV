{
 "cells": [
  {
   "cell_type": "code",
   "execution_count": null,
   "id": "9a8d361d-92c5-40b0-a2ec-b3a7c801bbd4",
   "metadata": {},
   "outputs": [],
   "source": [
    "#emotion detection\n",
    "import cv2\n",
    "from deepface import DeepFace\n",
    "from google.colab.patches import cv2_imshow\n",
    "image=cv2.imread('emotion.jpg')\n",
    "emotion=DeepFace.analyze(image,actions=['emotion'])\n",
    "cv2_imshow(image)\n",
    "print(emotion)"
   ]
  }
 ],
 "metadata": {
  "kernelspec": {
   "display_name": "Python 3 (ipykernel)",
   "language": "python",
   "name": "python3"
  },
  "language_info": {
   "codemirror_mode": {
    "name": "ipython",
    "version": 3
   },
   "file_extension": ".py",
   "mimetype": "text/x-python",
   "name": "python",
   "nbconvert_exporter": "python",
   "pygments_lexer": "ipython3",
   "version": "3.11.5"
  }
 },
 "nbformat": 4,
 "nbformat_minor": 5
}
