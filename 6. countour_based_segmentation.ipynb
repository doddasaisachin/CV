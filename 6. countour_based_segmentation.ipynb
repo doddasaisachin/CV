{
 "cells": [
  {
   "cell_type": "code",
   "execution_count": null,
   "id": "259947a3-3440-410f-ba3b-37ecb11b95a9",
   "metadata": {},
   "outputs": [],
   "source": [
    "#contour based segmentation\n",
    "import cv2\n",
    "import numpy as np\n",
    "from google.colab.patches import cv2_imshow\n",
    "\n",
    "image = cv2.imread('car.png')\n",
    "gray = cv2.cvtColor(image, cv2.COLOR_BGR2GRAY)\n",
    "\n",
    "edges = cv2.Canny(gray, 150, 255)\n",
    "ret, thresh = cv2.threshold(gray, 150, 255, cv2.THRESH_BINARY)\n",
    "\n",
    "contours, _ = cv2.findContours(thresh, cv2.RETR_TREE, cv2.CHAIN_APPROX_NONE)\n",
    "\n",
    "contour_image = image.copy()\n",
    "cv2.drawContours(contour_image, contours, -1, (0, 255, 0), 2)\n",
    "\n",
    "cv2_imshow(contour_image)\n",
    "cv2_imshow(thresh)\n",
    "cv2.waitKey(0)\n",
    "cv2.destroyAllWindows()\n"
   ]
  }
 ],
 "metadata": {
  "kernelspec": {
   "display_name": "Python 3 (ipykernel)",
   "language": "python",
   "name": "python3"
  },
  "language_info": {
   "codemirror_mode": {
    "name": "ipython",
    "version": 3
   },
   "file_extension": ".py",
   "mimetype": "text/x-python",
   "name": "python",
   "nbconvert_exporter": "python",
   "pygments_lexer": "ipython3",
   "version": "3.11.5"
  }
 },
 "nbformat": 4,
 "nbformat_minor": 5
}
