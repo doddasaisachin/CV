{
 "cells": [
  {
   "cell_type": "code",
   "execution_count": null,
   "id": "948c7c43-5ff9-4ecb-9078-fc7b79445c93",
   "metadata": {},
   "outputs": [],
   "source": [
    "#region segmentation\n",
    "import numpy as np\n",
    "import matplotlib.pyplot as plt\n",
    "from skimage.feature import canny\n",
    "from skimage.color import rgb2gray, label2rgb\n",
    "from skimage.filters import sobel\n",
    "from skimage import data, morphology\n",
    "from skimage.segmentation import watershed\n",
    "import scipy.ndimage as nd\n",
    "\n",
    "# Load and preprocess the image\n",
    "img = rgb2gray(data.rocket())\n",
    "ed = canny(img)\n",
    "fill = nd.binary_fill_holes(ed)\n",
    "map = sobel(img)\n",
    "\n",
    "# Prepare markers for watershed segmentation\n",
    "mark = np.zeros_like(img, dtype=int)\n",
    "mark[img < 0.2] = 1\n",
    "mark[img > 0.6] = 2\n",
    "\n",
    "# Perform watershed segmentation\n",
    "seg = watershed(map, mark)\n",
    "seg_fill = nd.binary_fill_holes(seg - 1)\n",
    "lab, _ = nd.label(seg_fill)\n",
    "\n",
    "# Convert label image to RGB\n",
    "img1 = label2rgb(lab, image=img)\n",
    "\n",
    "# Plotting the results\n",
    "plt.figure(figsize=(12, 8))\n",
    "\n",
    "plt.subplot(2, 2, 1)\n",
    "plt.title('Original Image')\n",
    "plt.imshow(img, cmap='gray')\n",
    "\n",
    "plt.subplot(2, 2, 2)\n",
    "plt.title('Edge Detection')\n",
    "plt.imshow(ed, cmap='gray')\n",
    "\n",
    "plt.subplot(2, 2, 3)\n",
    "plt.title('Watershed Segmentation')\n",
    "plt.imshow(seg, cmap='nipy_spectral')\n",
    "\n",
    "plt.subplot(2, 2, 4)\n",
    "plt.title('Segmented Image')\n",
    "plt.imshow(img1)\n",
    "\n",
    "plt.tight_layout()\n",
    "plt.show()\n"
   ]
  }
 ],
 "metadata": {
  "kernelspec": {
   "display_name": "Python 3 (ipykernel)",
   "language": "python",
   "name": "python3"
  },
  "language_info": {
   "codemirror_mode": {
    "name": "ipython",
    "version": 3
   },
   "file_extension": ".py",
   "mimetype": "text/x-python",
   "name": "python",
   "nbconvert_exporter": "python",
   "pygments_lexer": "ipython3",
   "version": "3.11.5"
  }
 },
 "nbformat": 4,
 "nbformat_minor": 5
}
