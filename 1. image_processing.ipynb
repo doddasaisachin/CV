{
 "cells": [
  {
   "cell_type": "code",
   "execution_count": null,
   "id": "7fba3638-948c-4fe6-bc52-60da52418349",
   "metadata": {},
   "outputs": [],
   "source": [
    "#Image processing\n",
    "import cv2\n",
    "from google.colab.patches import cv2_imshow\n",
    "\n",
    "image = cv2.imread(\"/content/background.jpg\")\n",
    "cv2_imshow(image)\n",
    "cv2.waitKey(0)\n",
    "cv2.destroyAllWindows()\n",
    "\n",
    "gray_image = cv2.cvtColor(image, cv2.COLOR_BGR2GRAY)\n",
    "cv2_imshow(gray_image)\n",
    "cv2.waitKey(0)\n",
    "cv2.destroyAllWindows()\n",
    "\n",
    "resized_image = cv2.resize(image, (200, 200))\n",
    "cv2_imshow(resized_image)\n",
    "cv2.waitKey(0)\n",
    "cv2.destroyAllWindows()\n",
    "\n",
    "blurred_image = cv2.GaussianBlur(image, (15, 15), 0)\n",
    "cv2_imshow(blurred_image)\n",
    "cv2.waitKey(0)\n",
    "cv2.destroyAllWindows()\n",
    "\n",
    "edges = cv2.Canny(gray_image, 100, 200)\n",
    "cv2_imshow(edges)\n",
    "cv2.waitKey(0)\n",
    "cv2.destroyAllWindows()\n",
    "\n",
    "cv2.rectangle(image, (50, 50), (300, 300), (255, 0, 0), 2)\n",
    "cv2.line(image, (60, 60), (300, 300), (0, 0, 255), 2)\n",
    "cv2_imshow(image)\n",
    "cv2.waitKey(0)\n",
    "cv2.destroyAllWindows()\n"
   ]
  }
 ],
 "metadata": {
  "kernelspec": {
   "display_name": "Python 3 (ipykernel)",
   "language": "python",
   "name": "python3"
  },
  "language_info": {
   "codemirror_mode": {
    "name": "ipython",
    "version": 3
   },
   "file_extension": ".py",
   "mimetype": "text/x-python",
   "name": "python",
   "nbconvert_exporter": "python",
   "pygments_lexer": "ipython3",
   "version": "3.11.5"
  }
 },
 "nbformat": 4,
 "nbformat_minor": 5
}
