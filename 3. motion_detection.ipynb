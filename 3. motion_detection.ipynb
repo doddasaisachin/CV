{
 "cells": [
  {
   "cell_type": "code",
   "execution_count": null,
   "id": "a88f4d2d-bf61-42db-bc27-59962f1dc643",
   "metadata": {},
   "outputs": [],
   "source": [
    "#Motion detection\n",
    "import cv2\n",
    "import numpy as np\n",
    "from google.colab.patches import cv2_imshow\n",
    "\n",
    "cap = cv2.VideoCapture('/content/motion.mp4')\n",
    "sub = cv2.createBackgroundSubtractorMOG2()  # Corrected method\n",
    "\n",
    "while True:\n",
    "    ret, frame = cap.read()\n",
    "    if not ret:\n",
    "        break  # Exit loop if no frame is captured\n",
    "\n",
    "    mask = sub.apply(frame)\n",
    "    contours, _ = cv2.findContours(mask, cv2.RETR_TREE, cv2.CHAIN_APPROX_SIMPLE)\n",
    "\n",
    "    # Initialize x, y, w, h to avoid undefined variable error\n",
    "    x, y, w, h = 0, 0, 0, 0\n",
    "\n",
    "    for contour in contours:\n",
    "        if cv2.contourArea(contour) > 550:\n",
    "            x, y, w, h = cv2.boundingRect(contour)\n",
    "            cv2.rectangle(frame, (x, y), (x + w, y + h), (0, 255, 0), 2)\n",
    "\n",
    "    cv2_imshow(frame)\n",
    "    cv2_imshow(mask)\n",
    "\n",
    "# Release resources\n",
    "cap.release()\n",
    "cv2.destroyAllWindows()\n"
   ]
  }
 ],
 "metadata": {
  "kernelspec": {
   "display_name": "Python 3 (ipykernel)",
   "language": "python",
   "name": "python3"
  },
  "language_info": {
   "codemirror_mode": {
    "name": "ipython",
    "version": 3
   },
   "file_extension": ".py",
   "mimetype": "text/x-python",
   "name": "python",
   "nbconvert_exporter": "python",
   "pygments_lexer": "ipython3",
   "version": "3.11.5"
  }
 },
 "nbformat": 4,
 "nbformat_minor": 5
}
