{
 "cells": [
  {
   "cell_type": "code",
   "execution_count": null,
   "id": "8d074ed1-5908-4b8c-b6da-9d1de6886226",
   "metadata": {},
   "outputs": [],
   "source": [
    "#QR code\n",
    "!apt-get install libzbar0\n",
    "!pip install pyzbar\n",
    "import cv2\n",
    "from pyzbar.pyzbar import decode\n",
    "from google.colab.patches import cv2_imshow\n",
    "import numpy as np\n",
    "\n",
    "frame = cv2.imread('/content/qr_code (2).png')\n",
    "\n",
    "if frame is not None:\n",
    "    for qr in decode(frame):\n",
    "        cv2.polylines(frame, [np.array(qr.polygon, dtype=np.int32)], True, (255, 0, 0), 3)\n",
    "        print(\"QR Code detected:\", qr.data.decode('utf-8'))\n",
    "\n",
    "    cv2_imshow(frame)\n",
    "    cv2.waitKey(0)\n",
    "    cv2.destroyAllWindows()\n"
   ]
  }
 ],
 "metadata": {
  "kernelspec": {
   "display_name": "Python 3 (ipykernel)",
   "language": "python",
   "name": "python3"
  },
  "language_info": {
   "codemirror_mode": {
    "name": "ipython",
    "version": 3
   },
   "file_extension": ".py",
   "mimetype": "text/x-python",
   "name": "python",
   "nbconvert_exporter": "python",
   "pygments_lexer": "ipython3",
   "version": "3.11.5"
  }
 },
 "nbformat": 4,
 "nbformat_minor": 5
}
