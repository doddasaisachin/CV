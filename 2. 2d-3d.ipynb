{
 "cells": [
  {
   "cell_type": "code",
   "execution_count": null,
   "id": "e8003888-06e6-4ce4-84b6-3cd3e84f4af2",
   "metadata": {},
   "outputs": [],
   "source": [
    "#2d - 3d\n",
    "import cv2\n",
    "import numpy as np\n",
    "img=cv2.imread('/content/cube1.png',cv2.IMREAD_UNCHANGED)\n",
    "dep=cv2.imread('/content/cube2.png',cv2.IMREAD_GRAYSCALE)\n",
    "delta=(dep/255.0 *10).astype(int)\n",
    "arr=np.zeros_like(img)\n",
    "for y in range(img.shape[0]):\n",
    "  for x in range(img.shape[1]):\n",
    "    dx=delta[y,x]\n",
    "    if 0<= x+dx <img.shape[1]:\n",
    "      arr[y,x+dx]=img[y,x]\n",
    "cv2_imshow(arr)\n",
    "cv2.waitKey(0)\n",
    "cv2.destroyAllWindows()"
   ]
  }
 ],
 "metadata": {
  "kernelspec": {
   "display_name": "Python 3 (ipykernel)",
   "language": "python",
   "name": "python3"
  },
  "language_info": {
   "codemirror_mode": {
    "name": "ipython",
    "version": 3
   },
   "file_extension": ".py",
   "mimetype": "text/x-python",
   "name": "python",
   "nbconvert_exporter": "python",
   "pygments_lexer": "ipython3",
   "version": "3.11.5"
  }
 },
 "nbformat": 4,
 "nbformat_minor": 5
}
