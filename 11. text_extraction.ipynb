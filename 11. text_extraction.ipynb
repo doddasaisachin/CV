{
 "cells": [
  {
   "cell_type": "code",
   "execution_count": null,
   "id": "5e565ccd-187e-4ecd-9a36-c96ccf225fb6",
   "metadata": {},
   "outputs": [],
   "source": [
    "#Text extraction\n",
    "!apt-get install tesseract-ocr\n",
    "!pip install pytesseract\n",
    "\n",
    "import cv2\n",
    "import pytesseract\n",
    "\n",
    "image_path = \"/content/text.png\"\n",
    "image = cv2.imread(image_path)\n",
    "gray = cv2.cvtColor(image, cv2.COLOR_BGR2GRAY)\n",
    "text = pytesseract.image_to_string(gray)\n",
    "\n",
    "print(\"Extracted Text:\")\n",
    "print(text)\n"
   ]
  }
 ],
 "metadata": {
  "kernelspec": {
   "display_name": "Python 3 (ipykernel)",
   "language": "python",
   "name": "python3"
  },
  "language_info": {
   "codemirror_mode": {
    "name": "ipython",
    "version": 3
   },
   "file_extension": ".py",
   "mimetype": "text/x-python",
   "name": "python",
   "nbconvert_exporter": "python",
   "pygments_lexer": "ipython3",
   "version": "3.11.5"
  }
 },
 "nbformat": 4,
 "nbformat_minor": 5
}
