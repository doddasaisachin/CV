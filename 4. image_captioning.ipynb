{
 "cells": [
  {
   "cell_type": "code",
   "execution_count": null,
   "id": "363b0d69-111e-4b88-8677-6fca7be50836",
   "metadata": {},
   "outputs": [],
   "source": [
    "#Image Captioning\n",
    "from transformers import BlipProcessor, BlipForConditionalGeneration\n",
    "from PIL import Image\n",
    "import matplotlib.pyplot as plt\n",
    "image_path = ('/content/captions.jpg') # Replace with your local image path\n",
    "image = Image.open(image_path).convert('RGB')\n",
    "processor = BlipProcessor.from_pretrained('Salesforce/blip-image-captioning-base')\n",
    "model = BlipForConditionalGeneration.from_pretrained('Salesforce/blip-image-captioning-base')\n",
    "inputs = processor(images=image, return_tensors='pt')\n",
    "caption = processor.decode(model.generate(**inputs)[0], skip_special_tokens=True)\n",
    "plt.imshow(image)\n",
    "plt.title(caption)\n",
    "plt.axis('off')\n",
    "plt.show()"
   ]
  }
 ],
 "metadata": {
  "kernelspec": {
   "display_name": "Python 3 (ipykernel)",
   "language": "python",
   "name": "python3"
  },
  "language_info": {
   "codemirror_mode": {
    "name": "ipython",
    "version": 3
   },
   "file_extension": ".py",
   "mimetype": "text/x-python",
   "name": "python",
   "nbconvert_exporter": "python",
   "pygments_lexer": "ipython3",
   "version": "3.11.5"
  }
 },
 "nbformat": 4,
 "nbformat_minor": 5
}
