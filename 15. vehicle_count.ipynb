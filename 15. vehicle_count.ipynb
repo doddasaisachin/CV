{
 "cells": [
  {
   "cell_type": "code",
   "execution_count": null,
   "id": "7a18c658-c6cc-466f-926d-9f11d430ce3b",
   "metadata": {},
   "outputs": [],
   "source": [
    "#Vehicle count\n",
    "import cv2\n",
    "from google.colab.patches import cv2_imshow\n",
    "import time\n",
    "\n",
    "cap = cv2.VideoCapture(\"/content/dataset_video1.avi\")\n",
    "cls = cv2.CascadeClassifier(\"cars.xml\")\n",
    "\n",
    "# Check if the cascade classifier is loaded properly\n",
    "if cls.empty():\n",
    "    print(\"Error loading cascade classifier\")\n",
    "    cap.release()\n",
    "    cv2.destroyAllWindows()\n",
    "    exit()\n",
    "\n",
    "ctr = 0\n",
    "while cap.isOpened():\n",
    "    time.sleep(0.05)  # Adjust or remove this for smoother playback\n",
    "    ret, frame = cap.read()\n",
    "\n",
    "    if not ret:\n",
    "        break\n",
    "\n",
    "    gray = cv2.cvtColor(frame, cv2.COLOR_BGR2GRAY)\n",
    "    class1 = cls.detectMultiScale(gray, 1.4, 2)\n",
    "\n",
    "    # Initialize car count for the frame\n",
    "    car_count = 0\n",
    "\n",
    "    for (x, y, w, h) in class1:\n",
    "        cv2.rectangle(frame, (x, y), (x + w, y + h), (0, 255, 0), 2)\n",
    "        car_count += 1\n",
    "\n",
    "    # Display the count on the frame\n",
    "    cv2.putText(frame, f\"Car Count: {car_count}\", (10, 30), cv2.FONT_HERSHEY_SIMPLEX, 1, (0, 255, 0), 2)\n",
    "\n",
    "    # Show the frame\n",
    "    cv2_imshow(frame)\n",
    "\n",
    "    ctr += 1\n",
    "\n",
    "cap.release()\n",
    "cv2.destroyAllWindows()\n"
   ]
  }
 ],
 "metadata": {
  "kernelspec": {
   "display_name": "Python 3 (ipykernel)",
   "language": "python",
   "name": "python3"
  },
  "language_info": {
   "codemirror_mode": {
    "name": "ipython",
    "version": 3
   },
   "file_extension": ".py",
   "mimetype": "text/x-python",
   "name": "python",
   "nbconvert_exporter": "python",
   "pygments_lexer": "ipython3",
   "version": "3.11.5"
  }
 },
 "nbformat": 4,
 "nbformat_minor": 5
}
